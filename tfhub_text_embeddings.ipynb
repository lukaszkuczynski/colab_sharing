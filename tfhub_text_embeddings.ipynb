{
  "nbformat": 4,
  "nbformat_minor": 0,
  "metadata": {
    "colab": {
      "name": "tfhub_text_embeddings",
      "provenance": [],
      "collapsed_sections": []
    },
    "kernelspec": {
      "name": "python3",
      "display_name": "Python 3"
    },
    "language_info": {
      "name": "python"
    }
  },
  "cells": [
    {
      "cell_type": "code",
      "metadata": {
        "id": "dv4zUH_zPal0"
      },
      "source": [
        "!pip3 install tensorflow_text>=2.0.0rc0"
      ],
      "execution_count": null,
      "outputs": []
    },
    {
      "cell_type": "code",
      "metadata": {
        "id": "_4jN2rfNPHt0"
      },
      "source": [
        "import tensorflow_hub as hub\n",
        "import numpy as np\n",
        "import tensorflow_text"
      ],
      "execution_count": null,
      "outputs": []
    },
    {
      "cell_type": "code",
      "metadata": {
        "id": "aTtPEjz1ed2P"
      },
      "source": [
        "embed = hub.load(\"https://tfhub.dev/google/universal-sentence-encoder-multilingual/3\")"
      ],
      "execution_count": null,
      "outputs": []
    },
    {
      "cell_type": "code",
      "metadata": {
        "id": "3F_N4w1FPPZk"
      },
      "source": [
        "# Some texts of different lengths.\n",
        "english_sentences = [\"dog\", \"Puppies are nice.\", \"I enjoy taking long walks along the beach with my dog.\"]\n",
        "italian_sentences = [\"cane\", \"I cuccioli sono carini.\", \"Mi piace fare lunghe passeggiate lungo la spiaggia con il mio cane.\"]\n",
        "japanese_sentences = [\"犬\", \"子犬はいいです\", \"私は犬と一緒にビーチを散歩するのが好きです\"]\n",
        "\n",
        "\n",
        "# Compute embeddings.\n",
        "en_result = embed(english_sentences)\n",
        "it_result = embed(italian_sentences)\n",
        "ja_result = embed(japanese_sentences)\n",
        "\n",
        "# Compute similarity matrix. Higher score indicates greater similarity.\n",
        "similarity_matrix_it = np.inner(en_result, it_result)\n",
        "similarity_matrix_ja = np.inner(en_result, ja_result)"
      ],
      "execution_count": null,
      "outputs": []
    },
    {
      "cell_type": "code",
      "metadata": {
        "colab": {
          "base_uri": "https://localhost:8080/"
        },
        "id": "fBzMWBQ2PgOk",
        "outputId": "82b678d2-43c4-4dbd-ca1b-e89e323cd994"
      },
      "source": [
        "similarity_matrix_ja"
      ],
      "execution_count": null,
      "outputs": [
        {
          "output_type": "execute_result",
          "data": {
            "text/plain": [
              "array([[0.9171357 , 0.511527  , 0.3158718 ],\n",
              "       [0.44313598, 0.658635  , 0.309213  ],\n",
              "       [0.2665054 , 0.25377458, 0.7672992 ]], dtype=float32)"
            ]
          },
          "metadata": {},
          "execution_count": 7
        }
      ]
    },
    {
      "cell_type": "code",
      "metadata": {
        "colab": {
          "base_uri": "https://localhost:8080/"
        },
        "id": "HbT0trpIPmsh",
        "outputId": "ea60aba8-41df-4d5c-c2c6-267b84248417"
      },
      "source": [
        "sent1 = \"Football is fantastic sport, you just kick and run\"\n",
        "sent2 = \"running is great for your health\"\n",
        "sent3 = \"I don't like to move. I am a couch potato\"\n",
        "\n",
        "embs = embed([sent1, sent2, sent3])\n",
        "embs"
      ],
      "execution_count": null,
      "outputs": [
        {
          "output_type": "execute_result",
          "data": {
            "text/plain": [
              "<tf.Tensor: shape=(3, 512), dtype=float32, numpy=\n",
              "array([[-0.01043565,  0.0397465 ,  0.04154658, ..., -0.01284844,\n",
              "         0.0261252 , -0.05097636],\n",
              "       [-0.033679  , -0.05046516,  0.00164147, ...,  0.02319673,\n",
              "        -0.02080888, -0.04610538],\n",
              "       [-0.03822121, -0.00328445,  0.03299889, ..., -0.02711695,\n",
              "         0.01458611,  0.06353468]], dtype=float32)>"
            ]
          },
          "metadata": {},
          "execution_count": 8
        }
      ]
    },
    {
      "cell_type": "code",
      "metadata": {
        "id": "SJDFEmpTd29D"
      },
      "source": [
        "sent_pl_1 = \"Lubię biegać za piłką. Piłka nożna to moja pasja.\"\n",
        "sent_pl_2 = \"Myj ręce, dzięki temu może będziesz zdrowy\"\n",
        "sent_en_1 = \"I like football. This is my passion\"\n",
        "sent_en_2 = \"Where is my friend. I feel very lonely\""
      ],
      "execution_count": null,
      "outputs": []
    },
    {
      "cell_type": "code",
      "metadata": {
        "id": "ozabZ9CXeHmQ"
      },
      "source": [
        "pl_embeddings = embed([sent_pl_1, sent_pl_2])\n",
        "en_embeddings = embed([sent_en_1, sent_en_2])"
      ],
      "execution_count": null,
      "outputs": []
    },
    {
      "cell_type": "code",
      "metadata": {
        "colab": {
          "base_uri": "https://localhost:8080/"
        },
        "id": "k6Vg5P2Ee-if",
        "outputId": "3c8f1d93-aa10-4a96-f0c6-eae5c12d4d26"
      },
      "source": [
        "np.inner(pl_embeddings, en_embeddings)"
      ],
      "execution_count": null,
      "outputs": [
        {
          "output_type": "execute_result",
          "data": {
            "text/plain": [
              "array([[0.63552463, 0.11522794],\n",
              "       [0.15198234, 0.15235355]], dtype=float32)"
            ]
          },
          "metadata": {},
          "execution_count": 7
        }
      ]
    },
    {
      "cell_type": "code",
      "metadata": {
        "id": "m_V9CXfHfTdQ"
      },
      "source": [
        ""
      ],
      "execution_count": null,
      "outputs": []
    }
  ]
}